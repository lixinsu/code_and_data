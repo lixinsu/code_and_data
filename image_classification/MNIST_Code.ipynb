{
 "cells": [
  {
   "cell_type": "markdown",
   "metadata": {},
   "source": [
    "## 图像识别任务 -- MNIST手写数字识别\n",
    "---\n",
    "\n",
    "### 第0步：导入运行所需要的Python包"
   ]
  },
  {
   "cell_type": "code",
   "execution_count": 1,
   "metadata": {},
   "outputs": [
    {
     "name": "stdout",
     "output_type": "stream",
     "text": [
      "/home/tfuser/anaconda3/bin/python\r\n"
     ]
    }
   ],
   "source": [
    "!which python"
   ]
  },
  {
   "cell_type": "code",
   "execution_count": 2,
   "metadata": {},
   "outputs": [
    {
     "name": "stderr",
     "output_type": "stream",
     "text": [
      "/home/tfuser/anaconda3/lib/python3.6/site-packages/tensorflow/python/framework/dtypes.py:526: FutureWarning: Passing (type, 1) or '1type' as a synonym of type is deprecated; in a future version of numpy, it will be understood as (type, (1,)) / '(1,)type'.\n",
      "  _np_qint8 = np.dtype([(\"qint8\", np.int8, 1)])\n",
      "/home/tfuser/anaconda3/lib/python3.6/site-packages/tensorflow/python/framework/dtypes.py:527: FutureWarning: Passing (type, 1) or '1type' as a synonym of type is deprecated; in a future version of numpy, it will be understood as (type, (1,)) / '(1,)type'.\n",
      "  _np_quint8 = np.dtype([(\"quint8\", np.uint8, 1)])\n",
      "/home/tfuser/anaconda3/lib/python3.6/site-packages/tensorflow/python/framework/dtypes.py:528: FutureWarning: Passing (type, 1) or '1type' as a synonym of type is deprecated; in a future version of numpy, it will be understood as (type, (1,)) / '(1,)type'.\n",
      "  _np_qint16 = np.dtype([(\"qint16\", np.int16, 1)])\n",
      "/home/tfuser/anaconda3/lib/python3.6/site-packages/tensorflow/python/framework/dtypes.py:529: FutureWarning: Passing (type, 1) or '1type' as a synonym of type is deprecated; in a future version of numpy, it will be understood as (type, (1,)) / '(1,)type'.\n",
      "  _np_quint16 = np.dtype([(\"quint16\", np.uint16, 1)])\n",
      "/home/tfuser/anaconda3/lib/python3.6/site-packages/tensorflow/python/framework/dtypes.py:530: FutureWarning: Passing (type, 1) or '1type' as a synonym of type is deprecated; in a future version of numpy, it will be understood as (type, (1,)) / '(1,)type'.\n",
      "  _np_qint32 = np.dtype([(\"qint32\", np.int32, 1)])\n",
      "/home/tfuser/anaconda3/lib/python3.6/site-packages/tensorflow/python/framework/dtypes.py:535: FutureWarning: Passing (type, 1) or '1type' as a synonym of type is deprecated; in a future version of numpy, it will be understood as (type, (1,)) / '(1,)type'.\n",
      "  np_resource = np.dtype([(\"resource\", np.ubyte, 1)])\n"
     ]
    }
   ],
   "source": [
    "import sys\n",
    "import numpy as np\n",
    "import tensorflow as tf\n",
    "import matplotlib.pyplot as plt\n",
    "import tqdm\n",
    "%matplotlib inline"
   ]
  },
  {
   "cell_type": "markdown",
   "metadata": {},
   "source": [
    "### 第1步：加载数据 可视化数据"
   ]
  },
  {
   "cell_type": "code",
   "execution_count": 3,
   "metadata": {
    "scrolled": true
   },
   "outputs": [
    {
     "name": "stdout",
     "output_type": "stream",
     "text": [
      "WARNING:tensorflow:From <ipython-input-3-dc9ed6d44aa0>:2: read_data_sets (from tensorflow.contrib.learn.python.learn.datasets.mnist) is deprecated and will be removed in a future version.\n",
      "Instructions for updating:\n",
      "Please use alternatives such as official/mnist/dataset.py from tensorflow/models.\n",
      "WARNING:tensorflow:From /home/tfuser/anaconda3/lib/python3.6/site-packages/tensorflow/contrib/learn/python/learn/datasets/mnist.py:260: maybe_download (from tensorflow.contrib.learn.python.learn.datasets.base) is deprecated and will be removed in a future version.\n",
      "Instructions for updating:\n",
      "Please write your own downloading logic.\n",
      "WARNING:tensorflow:From /home/tfuser/anaconda3/lib/python3.6/site-packages/tensorflow/contrib/learn/python/learn/datasets/mnist.py:262: extract_images (from tensorflow.contrib.learn.python.learn.datasets.mnist) is deprecated and will be removed in a future version.\n",
      "Instructions for updating:\n",
      "Please use tf.data to implement this functionality.\n",
      "Extracting ./data/train-images-idx3-ubyte.gz\n",
      "WARNING:tensorflow:From /home/tfuser/anaconda3/lib/python3.6/site-packages/tensorflow/contrib/learn/python/learn/datasets/mnist.py:267: extract_labels (from tensorflow.contrib.learn.python.learn.datasets.mnist) is deprecated and will be removed in a future version.\n",
      "Instructions for updating:\n",
      "Please use tf.data to implement this functionality.\n",
      "Extracting ./data/train-labels-idx1-ubyte.gz\n",
      "WARNING:tensorflow:From /home/tfuser/anaconda3/lib/python3.6/site-packages/tensorflow/contrib/learn/python/learn/datasets/mnist.py:110: dense_to_one_hot (from tensorflow.contrib.learn.python.learn.datasets.mnist) is deprecated and will be removed in a future version.\n",
      "Instructions for updating:\n",
      "Please use tf.one_hot on tensors.\n",
      "Extracting ./data/t10k-images-idx3-ubyte.gz\n",
      "Extracting ./data/t10k-labels-idx1-ubyte.gz\n",
      "WARNING:tensorflow:From /home/tfuser/anaconda3/lib/python3.6/site-packages/tensorflow/contrib/learn/python/learn/datasets/mnist.py:290: DataSet.__init__ (from tensorflow.contrib.learn.python.learn.datasets.mnist) is deprecated and will be removed in a future version.\n",
      "Instructions for updating:\n",
      "Please use alternatives such as official/mnist/dataset.py from tensorflow/models.\n"
     ]
    }
   ],
   "source": [
    "from tensorflow.examples.tutorials.mnist import input_data\n",
    "mnist = input_data.read_data_sets('./data/', one_hot=True)"
   ]
  },
  {
   "cell_type": "code",
   "execution_count": 4,
   "metadata": {},
   "outputs": [
    {
     "data": {
      "image/png": "[encoded data removed]",
      "text/plain": [
       "<matplotlib.figure.Figure at 0x7fe37477de10>"
      ]
     },
     "metadata": {},
     "output_type": "display_data"
    }
   ],
   "source": [
    "plt.figure()\n",
    "for i in range(18):\n",
    "    plt.subplot(3,6,i+1)\n",
    "    plt.imshow(np.reshape(mnist.train.images[i], [28, 28]), cmap='gray')\n",
    "    plt.xticks([])\n",
    "    plt.yticks([])\n",
    "    plt.xlabel('%s' % np.argwhere(mnist.train.labels[i]==1)[0][0], fontsize=15)\n",
    "plt.show()"
   ]
  },
  {
   "cell_type": "markdown",
   "metadata": {},
   "source": [
    "### 第2步：构建模型（Softmax回归模型，卷积神经网络模型）"
   ]
  },
  {
   "cell_type": "code",
   "execution_count": 5,
   "metadata": {},
   "outputs": [],
   "source": [
    "class SoftmaxModel:\n",
    "    def __init__(self):\n",
    "        # Create the softmax regression model\n",
    "        self.x = tf.placeholder(tf.float32, [None, 784])\n",
    "        self.is_train = tf.placeholder(tf.bool, [])\n",
    "        \n",
    "        W = self.weight_variable([784, 10])\n",
    "        b = self.bias_variable([10])\n",
    "        self.y = tf.matmul(self.x, W) + b\n",
    "        \n",
    "        # Define loss \n",
    "        self.y_ = tf.placeholder(tf.float32, [None, 10])\n",
    "        self.cross_entropy = tf.reduce_mean(\n",
    "          tf.nn.softmax_cross_entropy_with_logits(labels=self.y_, logits=self.y))\n",
    "        \n",
    "        # Define optimizer\n",
    "        self.train_step = tf.train.GradientDescentOptimizer(0.5).minimize(self.cross_entropy)\n",
    "        \n",
    "        correct_prediction = tf.equal(tf.argmax(self.y, 1), tf.argmax(self.y_, 1))\n",
    "        self.accuracy = tf.reduce_mean(tf.cast(correct_prediction, tf.float32))\n",
    "        \n",
    "        tf.summary.scalar('Loss', self.cross_entropy)\n",
    "        tf.summary.scalar('Accuracy', self.accuracy)\n",
    "        \n",
    "        self.merged = tf.summary.merge_all()\n",
    "        \n",
    "    def weight_variable(self, shape):\n",
    "        \"\"\"Create a weight variable with appropriate initialization.\"\"\"\n",
    "        initial = tf.truncated_normal(shape, stddev=0.1)\n",
    "        return tf.Variable(initial)\n",
    "\n",
    "    def bias_variable(self, shape):\n",
    "        \"\"\"Create a bias variable with appropriate initialization.\"\"\"\n",
    "        initial = tf.constant(0.1, shape=shape)\n",
    "        return tf.Variable(initial)"
   ]
  },
  {
   "cell_type": "code",
   "execution_count": 6,
   "metadata": {},
   "outputs": [],
   "source": [
    "class CNNModel:\n",
    "    def __init__(self):\n",
    "        # Create the softmax regression model\n",
    "        self.x = tf.placeholder(tf.float32, [None, 784])\n",
    "        self.is_train = tf.placeholder(tf.bool, [])\n",
    "        \n",
    "        input_layer = tf.reshape(self.x, [-1, 28, 28, 1])\n",
    "        \n",
    "        # Convolutional Layer #1\n",
    "        conv1 = tf.layers.conv2d(\n",
    "          inputs=input_layer,\n",
    "          filters=16,\n",
    "          kernel_size=[3, 3],\n",
    "          padding=\"same\",\n",
    "          activation=tf.nn.relu)\n",
    "\n",
    "        # Pooling Layer #1\n",
    "        pool1 = tf.layers.max_pooling2d(inputs=conv1, pool_size=[2, 2], strides=2)\n",
    "\n",
    "        # Convolutional Layer #2 and Pooling Layer #2\n",
    "        conv2 = tf.layers.conv2d(\n",
    "          inputs=pool1,\n",
    "          filters=16,\n",
    "          kernel_size=[3, 3],\n",
    "          padding=\"same\",\n",
    "          activation=tf.nn.relu)\n",
    "        pool2 = tf.layers.max_pooling2d(inputs=conv2, pool_size=[2, 2], strides=2)\n",
    "\n",
    "        # Dense Layer\n",
    "        pool2_flat = tf.reshape(pool2, [-1, 7 * 7 * 16])\n",
    "        dense = tf.layers.dense(inputs=pool2_flat, units=128, activation=tf.nn.relu)\n",
    "        dropout = tf.layers.dropout(\n",
    "          inputs=dense, rate=0.2, training=self.is_train)\n",
    "\n",
    "        # Logits Layer\n",
    "        self.y = tf.layers.dense(inputs=dropout, units=10)\n",
    "        \n",
    "        # Define loss \n",
    "        self.y_ = tf.placeholder(tf.float32, [None, 10])\n",
    "        self.cross_entropy = tf.reduce_mean(\n",
    "          tf.nn.softmax_cross_entropy_with_logits(labels=self.y_, logits=self.y))\n",
    "        \n",
    "        # Define optimizer\n",
    "        self.train_step = tf.train.AdamOptimizer(0.001).minimize(self.cross_entropy)\n",
    "        \n",
    "        correct_prediction = tf.equal(tf.argmax(self.y, 1), tf.argmax(self.y_, 1))\n",
    "        self.accuracy = tf.reduce_mean(tf.cast(correct_prediction, tf.float32))\n",
    "        \n",
    "        tf.summary.scalar('Loss', self.cross_entropy)\n",
    "        tf.summary.scalar('Accuracy', self.accuracy)\n",
    "        \n",
    "        self.merged = tf.summary.merge_all() "
   ]
  },
  {
   "cell_type": "markdown",
   "metadata": {},
   "source": [
    "### 第3步：训练与测试模型"
   ]
  },
  {
   "cell_type": "code",
   "execution_count": 7,
   "metadata": {},
   "outputs": [],
   "source": [
    "! rm -r ./result/softmax/*"
   ]
  },
  {
   "cell_type": "code",
   "execution_count": 8,
   "metadata": {},
   "outputs": [
    {
     "name": "stdout",
     "output_type": "stream",
     "text": [
      "开始训练Softmax回归模型...\n",
      "WARNING:tensorflow:From /home/tfuser/anaconda3/lib/python3.6/site-packages/tensorflow/python/framework/op_def_library.py:263: colocate_with (from tensorflow.python.framework.ops) is deprecated and will be removed in a future version.\n",
      "Instructions for updating:\n",
      "Colocations handled automatically by placer.\n",
      "WARNING:tensorflow:From <ipython-input-5-d9ce7d7e4b9c>:14: softmax_cross_entropy_with_logits (from tensorflow.python.ops.nn_ops) is deprecated and will be removed in a future version.\n",
      "Instructions for updating:\n",
      "\n",
      "Future major versions of TensorFlow will allow gradients to flow\n",
      "into the labels input on backprop by default.\n",
      "\n",
      "See `tf.nn.softmax_cross_entropy_with_logits_v2`.\n",
      "\n"
     ]
    },
    {
     "name": "stderr",
     "output_type": "stream",
     "text": [
      "100%|██████████| 200/200 [00:09<00:00, 20.27it/s]"
     ]
    },
    {
     "name": "stdout",
     "output_type": "stream",
     "text": [
      "训练完毕.\n"
     ]
    },
    {
     "name": "stderr",
     "output_type": "stream",
     "text": [
      "\n"
     ]
    }
   ],
   "source": [
    "tf.reset_default_graph()\n",
    "\n",
    "print('开始训练Softmax回归模型...')\n",
    "\n",
    "sess = tf.InteractiveSession()\n",
    "\n",
    "train_writer = tf.summary.FileWriter('./result/softmax/train', flush_secs=1)\n",
    "test_writer = tf.summary.FileWriter('./result/softmax/test', flush_secs=1)\n",
    "\n",
    "model = SoftmaxModel()\n",
    "\n",
    "graph_writer = tf.summary.FileWriter('./result/softmax/graph', sess.graph)\n",
    "graph_writer.close()\n",
    "\n",
    "tf.global_variables_initializer().run()\n",
    "\n",
    "# Train\n",
    "for i in tqdm.tqdm(range(200)):\n",
    "    batch_xs, batch_ys = mnist.train.next_batch(32)\n",
    "\n",
    "    summary_train, _ = sess.run([model.merged, model.train_step], \n",
    "                                feed_dict={model.x: batch_xs, model.y_: batch_ys, \n",
    "                                           model.is_train:True})\n",
    "    \n",
    "    # Test trained model\n",
    "    summary_test = sess.run(model.merged, \n",
    "                            feed_dict={model.x: mnist.test.images, model.y_: mnist.test.labels,\n",
    "                                      model.is_train:False})\n",
    "    \n",
    "    train_writer.add_summary(summary_train, i)\n",
    "    test_writer.add_summary(summary_test, i)\n",
    "\n",
    "train_writer.close()\n",
    "test_writer.close()\n",
    "\n",
    "print('训练完毕.')"
   ]
  },
  {
   "cell_type": "code",
   "execution_count": 9,
   "metadata": {},
   "outputs": [],
   "source": [
    "! rm -r ./result/cnn/*"
   ]
  },
  {
   "cell_type": "code",
   "execution_count": null,
   "metadata": {
    "scrolled": true
   },
   "outputs": [],
   "source": [
    "# CNN very slow, try it later\n",
    "tf.reset_default_graph()\n",
    "\n",
    "print('开始训练卷积神经网络模型...')\n",
    "\n",
    "sess = tf.InteractiveSession()\n",
    "\n",
    "train_writer = tf.summary.FileWriter('./result/cnn/train', flush_secs=1)\n",
    "test_writer = tf.summary.FileWriter('./result/cnn/test', flush_secs=1)\n",
    "\n",
    "model = CNNModel()\n",
    "\n",
    "graph_writer = tf.summary.FileWriter('./result/cnn/graph', sess.graph)\n",
    "graph_writer.close()\n",
    "\n",
    "tf.global_variables_initializer().run()\n",
    "\n",
    "# Train\n",
    "for i in tqdm.tqdm(range(200)):\n",
    "    batch_xs, batch_ys = mnist.train.next_batch(32)\n",
    "\n",
    "    summary_train, _ = sess.run([model.merged, model.train_step], \n",
    "                                feed_dict={model.x: batch_xs, model.y_: batch_ys, \n",
    "                                           model.is_train: True})\n",
    "    \n",
    "    # Test trained model\n",
    "    summary_test = sess.run(model.merged, \n",
    "                            feed_dict={model.x: mnist.test.images, model.y_: mnist.test.labels, \n",
    "                                       model.is_train: False})\n",
    "    \n",
    "    train_writer.add_summary(summary_train, i)\n",
    "    test_writer.add_summary(summary_test, i)\n",
    "\n",
    "train_writer.close()\n",
    "test_writer.close()\n",
    "\n",
    "print('训练完毕.')"
   ]
  },
  {
   "cell_type": "markdown",
   "metadata": {
    "collapsed": true
   },
   "source": [
    "### 最后一步：TensorBoard可视化\n",
    "\n",
    "模型图：\n",
    "    ![b](./data/model.png)\n",
    "\n",
    "模型训练过程：\n",
    "    ![a](./data/example.png)\n",
    "\n"
   ]
  },
  {
   "cell_type": "markdown",
   "metadata": {},
   "source": [
    "### 大功告成！最后看看我们的模型预测对了多少？"
   ]
  },
  {
   "cell_type": "code",
   "execution_count": 11,
   "metadata": {},
   "outputs": [
    {
     "data": {
      "image/png": "[encoded data removed]",
      "text/plain": [
       "<matplotlib.figure.Figure at 0x7fe371081e48>"
      ]
     },
     "metadata": {},
     "output_type": "display_data"
    }
   ],
   "source": [
    "pred_labels = sess.run(model.y, feed_dict={model.x: mnist.test.images[:18], model.is_train: False})\n",
    "\n",
    "plt.figure()\n",
    "for i in range(18):\n",
    "    plt.subplot(3,6,i+1)\n",
    "    plt.imshow(np.reshape(mnist.test.images[i], [28, 28]), cmap='gray')\n",
    "    plt.xticks([])\n",
    "    plt.yticks([])\n",
    "    pred_num = np.argmax(pred_labels[i])\n",
    "    real_num = np.argwhere(mnist.test.labels[i]==1)[0][0]\n",
    "    if pred_num == real_num:\n",
    "        plt.xlabel('%s %s' % (pred_num, real_num), fontsize=15, color='green')\n",
    "    else:\n",
    "        plt.xlabel('%s %s' % (pred_num, real_num), fontsize=15, color='red')\n",
    "plt.show()"
   ]
  },
  {
   "cell_type": "code",
   "execution_count": null,
   "metadata": {},
   "outputs": [],
   "source": []
  }
 ],
 "metadata": {
  "kernelspec": {
   "display_name": "Python 3",
   "language": "python",
   "name": "python3"
  },
  "language_info": {
   "codemirror_mode": {
    "name": "ipython",
    "version": 3
   },
   "file_extension": ".py",
   "mimetype": "text/x-python",
   "name": "python",
   "nbconvert_exporter": "python",
   "pygments_lexer": "ipython3",
   "version": "3.6.4"
  }
 },
 "nbformat": 4,
 "nbformat_minor": 1
}
